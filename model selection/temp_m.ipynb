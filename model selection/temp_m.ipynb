{
 "cells": [
  {
   "cell_type": "code",
   "execution_count": 66,
   "metadata": {},
   "outputs": [
    {
     "name": "stderr",
     "output_type": "stream",
     "text": [
      "<>:2: SyntaxWarning: invalid escape sequence '\\d'\n",
      "<>:2: SyntaxWarning: invalid escape sequence '\\d'\n",
      "C:\\Users\\vivek\\AppData\\Local\\Temp\\ipykernel_18416\\2753670479.py:2: SyntaxWarning: invalid escape sequence '\\d'\n",
      "  df_nn = pd.read_csv('D:\\ds\\data preprocessing\\data\\waves_att.csv')\n"
     ]
    }
   ],
   "source": [
    "import pandas as pd\n",
    "df_nn = pd.read_csv('D:\\ds\\data preprocessing\\data\\waves_att.csv')"
   ]
  },
  {
   "cell_type": "code",
   "execution_count": 67,
   "metadata": {},
   "outputs": [
    {
     "data": {
      "text/html": [
       "<div>\n",
       "<style scoped>\n",
       "    .dataframe tbody tr th:only-of-type {\n",
       "        vertical-align: middle;\n",
       "    }\n",
       "\n",
       "    .dataframe tbody tr th {\n",
       "        vertical-align: top;\n",
       "    }\n",
       "\n",
       "    .dataframe thead th {\n",
       "        text-align: right;\n",
       "    }\n",
       "</style>\n",
       "<table border=\"1\" class=\"dataframe\">\n",
       "  <thead>\n",
       "    <tr style=\"text-align: right;\">\n",
       "      <th></th>\n",
       "      <th>Unnamed: 0</th>\n",
       "      <th>SOURCE_ID</th>\n",
       "      <th>WAVE_ID</th>\n",
       "      <th>YEAR</th>\n",
       "      <th>MONTH</th>\n",
       "      <th>DAY</th>\n",
       "      <th>DISTANCE_FROM_SOURCE</th>\n",
       "      <th>TRAVEL_TIME_HOURS</th>\n",
       "      <th>MEASUREMENT_TYPE</th>\n",
       "      <th>MAXIMUM_HEIGHT</th>\n",
       "    </tr>\n",
       "  </thead>\n",
       "  <tbody>\n",
       "    <tr>\n",
       "      <th>0</th>\n",
       "      <td>2599</td>\n",
       "      <td>1150</td>\n",
       "      <td>28276</td>\n",
       "      <td>1884</td>\n",
       "      <td>11.0</td>\n",
       "      <td>15.0</td>\n",
       "      <td>255.0</td>\n",
       "      <td>4.0</td>\n",
       "      <td>1.0</td>\n",
       "      <td>2.3</td>\n",
       "    </tr>\n",
       "    <tr>\n",
       "      <th>1</th>\n",
       "      <td>2600</td>\n",
       "      <td>1150</td>\n",
       "      <td>28277</td>\n",
       "      <td>1884</td>\n",
       "      <td>11.0</td>\n",
       "      <td>15.0</td>\n",
       "      <td>255.0</td>\n",
       "      <td>4.0</td>\n",
       "      <td>1.0</td>\n",
       "      <td>2.3</td>\n",
       "    </tr>\n",
       "    <tr>\n",
       "      <th>2</th>\n",
       "      <td>2691</td>\n",
       "      <td>1200</td>\n",
       "      <td>28469</td>\n",
       "      <td>1892</td>\n",
       "      <td>12.0</td>\n",
       "      <td>9.0</td>\n",
       "      <td>35.0</td>\n",
       "      <td>4.0</td>\n",
       "      <td>1.0</td>\n",
       "      <td>2.3</td>\n",
       "    </tr>\n",
       "    <tr>\n",
       "      <th>3</th>\n",
       "      <td>2692</td>\n",
       "      <td>1200</td>\n",
       "      <td>10475</td>\n",
       "      <td>1892</td>\n",
       "      <td>12.0</td>\n",
       "      <td>9.0</td>\n",
       "      <td>21.0</td>\n",
       "      <td>4.0</td>\n",
       "      <td>1.0</td>\n",
       "      <td>2.3</td>\n",
       "    </tr>\n",
       "    <tr>\n",
       "      <th>4</th>\n",
       "      <td>2697</td>\n",
       "      <td>1203</td>\n",
       "      <td>1421</td>\n",
       "      <td>1893</td>\n",
       "      <td>6.0</td>\n",
       "      <td>4.0</td>\n",
       "      <td>370.0</td>\n",
       "      <td>4.0</td>\n",
       "      <td>1.0</td>\n",
       "      <td>2.5</td>\n",
       "    </tr>\n",
       "  </tbody>\n",
       "</table>\n",
       "</div>"
      ],
      "text/plain": [
       "   Unnamed: 0  SOURCE_ID  WAVE_ID  YEAR  MONTH   DAY  DISTANCE_FROM_SOURCE  \\\n",
       "0        2599       1150    28276  1884   11.0  15.0                 255.0   \n",
       "1        2600       1150    28277  1884   11.0  15.0                 255.0   \n",
       "2        2691       1200    28469  1892   12.0   9.0                  35.0   \n",
       "3        2692       1200    10475  1892   12.0   9.0                  21.0   \n",
       "4        2697       1203     1421  1893    6.0   4.0                 370.0   \n",
       "\n",
       "   TRAVEL_TIME_HOURS  MEASUREMENT_TYPE  MAXIMUM_HEIGHT  \n",
       "0                4.0               1.0             2.3  \n",
       "1                4.0               1.0             2.3  \n",
       "2                4.0               1.0             2.3  \n",
       "3                4.0               1.0             2.3  \n",
       "4                4.0               1.0             2.5  "
      ]
     },
     "execution_count": 67,
     "metadata": {},
     "output_type": "execute_result"
    }
   ],
   "source": [
    "df_nn.head()"
   ]
  },
  {
   "cell_type": "code",
   "execution_count": 68,
   "metadata": {},
   "outputs": [],
   "source": [
    "df_nn = df_nn.loc[:, ~df_nn.columns.str.contains('^Unnamed')]"
   ]
  },
  {
   "cell_type": "code",
   "execution_count": 69,
   "metadata": {},
   "outputs": [
    {
     "data": {
      "text/html": [
       "<div>\n",
       "<style scoped>\n",
       "    .dataframe tbody tr th:only-of-type {\n",
       "        vertical-align: middle;\n",
       "    }\n",
       "\n",
       "    .dataframe tbody tr th {\n",
       "        vertical-align: top;\n",
       "    }\n",
       "\n",
       "    .dataframe thead th {\n",
       "        text-align: right;\n",
       "    }\n",
       "</style>\n",
       "<table border=\"1\" class=\"dataframe\">\n",
       "  <thead>\n",
       "    <tr style=\"text-align: right;\">\n",
       "      <th></th>\n",
       "      <th>SOURCE_ID</th>\n",
       "      <th>WAVE_ID</th>\n",
       "      <th>YEAR</th>\n",
       "      <th>MONTH</th>\n",
       "      <th>DAY</th>\n",
       "      <th>DISTANCE_FROM_SOURCE</th>\n",
       "      <th>TRAVEL_TIME_HOURS</th>\n",
       "      <th>MEASUREMENT_TYPE</th>\n",
       "      <th>MAXIMUM_HEIGHT</th>\n",
       "    </tr>\n",
       "  </thead>\n",
       "  <tbody>\n",
       "    <tr>\n",
       "      <th>0</th>\n",
       "      <td>1150</td>\n",
       "      <td>28276</td>\n",
       "      <td>1884</td>\n",
       "      <td>11.0</td>\n",
       "      <td>15.0</td>\n",
       "      <td>255.0</td>\n",
       "      <td>4.0</td>\n",
       "      <td>1.0</td>\n",
       "      <td>2.3</td>\n",
       "    </tr>\n",
       "    <tr>\n",
       "      <th>1</th>\n",
       "      <td>1150</td>\n",
       "      <td>28277</td>\n",
       "      <td>1884</td>\n",
       "      <td>11.0</td>\n",
       "      <td>15.0</td>\n",
       "      <td>255.0</td>\n",
       "      <td>4.0</td>\n",
       "      <td>1.0</td>\n",
       "      <td>2.3</td>\n",
       "    </tr>\n",
       "    <tr>\n",
       "      <th>2</th>\n",
       "      <td>1200</td>\n",
       "      <td>28469</td>\n",
       "      <td>1892</td>\n",
       "      <td>12.0</td>\n",
       "      <td>9.0</td>\n",
       "      <td>35.0</td>\n",
       "      <td>4.0</td>\n",
       "      <td>1.0</td>\n",
       "      <td>2.3</td>\n",
       "    </tr>\n",
       "    <tr>\n",
       "      <th>3</th>\n",
       "      <td>1200</td>\n",
       "      <td>10475</td>\n",
       "      <td>1892</td>\n",
       "      <td>12.0</td>\n",
       "      <td>9.0</td>\n",
       "      <td>21.0</td>\n",
       "      <td>4.0</td>\n",
       "      <td>1.0</td>\n",
       "      <td>2.3</td>\n",
       "    </tr>\n",
       "    <tr>\n",
       "      <th>4</th>\n",
       "      <td>1203</td>\n",
       "      <td>1421</td>\n",
       "      <td>1893</td>\n",
       "      <td>6.0</td>\n",
       "      <td>4.0</td>\n",
       "      <td>370.0</td>\n",
       "      <td>4.0</td>\n",
       "      <td>1.0</td>\n",
       "      <td>2.5</td>\n",
       "    </tr>\n",
       "  </tbody>\n",
       "</table>\n",
       "</div>"
      ],
      "text/plain": [
       "   SOURCE_ID  WAVE_ID  YEAR  MONTH   DAY  DISTANCE_FROM_SOURCE  \\\n",
       "0       1150    28276  1884   11.0  15.0                 255.0   \n",
       "1       1150    28277  1884   11.0  15.0                 255.0   \n",
       "2       1200    28469  1892   12.0   9.0                  35.0   \n",
       "3       1200    10475  1892   12.0   9.0                  21.0   \n",
       "4       1203     1421  1893    6.0   4.0                 370.0   \n",
       "\n",
       "   TRAVEL_TIME_HOURS  MEASUREMENT_TYPE  MAXIMUM_HEIGHT  \n",
       "0                4.0               1.0             2.3  \n",
       "1                4.0               1.0             2.3  \n",
       "2                4.0               1.0             2.3  \n",
       "3                4.0               1.0             2.3  \n",
       "4                4.0               1.0             2.5  "
      ]
     },
     "execution_count": 69,
     "metadata": {},
     "output_type": "execute_result"
    }
   ],
   "source": [
    "df_nn.head()"
   ]
  },
  {
   "cell_type": "code",
   "execution_count": 70,
   "metadata": {},
   "outputs": [],
   "source": [
    "# now we need to rescale the data to expose the structure of the data to the model\n",
    "#1)minmaxscaler-This is useful for optimization algorithms used in the core of machine learning algorithms like gradient descent. It is also useful for algorithms that weight inputs\n",
    "# like regression and neural networks and algorithms that use distance measures like k-Nearest Neighbors\n",
    "#2)standardscaler- used when the attrubutes are of guassian distribution,work better with rescaled data, such as linear regression, logistic regression and linear discriminate analysis.\n"
   ]
  },
  {
   "cell_type": "code",
   "execution_count": 71,
   "metadata": {},
   "outputs": [],
   "source": [
    "# lets analyze the data with histograms"
   ]
  },
  {
   "cell_type": "code",
   "execution_count": 72,
   "metadata": {},
   "outputs": [
    {
     "data": {
      "image/png": "[encoded data removed]",
      "text/plain": [
       "<Figure size 1500x1000 with 9 Axes>"
      ]
     },
     "metadata": {},
     "output_type": "display_data"
    }
   ],
   "source": [
    "import matplotlib.pyplot as plt\n",
    "cols = list(df_nn.columns)\n",
    "k=0\n",
    "fig, axs = plt.subplots(3, 3, figsize=(15, 10))\n",
    "for i in range(0,3):\n",
    "    for j in range(0,3):\n",
    "        if(i==2 and j>1):\n",
    "            break\n",
    "        axs[i,j].hist(df_nn[cols[k]],bins=10)\n",
    "        axs[i,j].set_title(cols[k])\n",
    "        k+=1\n",
    "plt.subplots_adjust(wspace=0.8, hspace=0.5)\n",
    "plt.show()\n"
   ]
  },
  {
   "cell_type": "code",
   "execution_count": 73,
   "metadata": {},
   "outputs": [],
   "source": [
    "# year,month,source_id and distance_from_source are skewed datas\n",
    "# waveid,measurement_type,travel_time_hours seems like normal distribtution"
   ]
  },
  {
   "cell_type": "code",
   "execution_count": 74,
   "metadata": {},
   "outputs": [
    {
     "data": {
      "text/plain": [
       "Index(['SOURCE_ID', 'WAVE_ID', 'YEAR', 'MONTH', 'DAY', 'DISTANCE_FROM_SOURCE',\n",
       "       'TRAVEL_TIME_HOURS', 'MEASUREMENT_TYPE', 'MAXIMUM_HEIGHT'],\n",
       "      dtype='object')"
      ]
     },
     "execution_count": 74,
     "metadata": {},
     "output_type": "execute_result"
    }
   ],
   "source": [
    "df_nn.columns"
   ]
  },
  {
   "cell_type": "code",
   "execution_count": 75,
   "metadata": {},
   "outputs": [],
   "source": [
    "from sklearn.preprocessing import StandardScaler, MinMaxScaler\n",
    "normal_scaler = StandardScaler()\n",
    "skewed_scaler = MinMaxScaler()\n",
    "mm = df_nn[['YEAR','MONTH','DISTANCE_FROM_SOURCE','SOURCE_ID']]\n",
    "sd = df_nn[['WAVE_ID','TRAVEL_TIME_HOURS','MEASUREMENT_TYPE']]"
   ]
  },
  {
   "cell_type": "code",
   "execution_count": 76,
   "metadata": {},
   "outputs": [],
   "source": [
    "re_mm = skewed_scaler.fit_transform(mm)\n",
    "re_sd = normal_scaler.fit_transform(sd) # mean=0, standard_deviation=1"
   ]
  },
  {
   "cell_type": "code",
   "execution_count": 77,
   "metadata": {},
   "outputs": [
    {
     "data": {
      "text/plain": [
       "array([[0.        , 0.90909091, 0.5141129 , 0.        ],\n",
       "       [0.        , 0.90909091, 0.5141129 , 0.        ],\n",
       "       [0.06060606, 1.        , 0.07056452, 0.01119069],\n",
       "       ...,\n",
       "       [1.        , 0.90909091, 0.20766129, 1.        ],\n",
       "       [1.        , 0.90909091, 0.24193548, 1.        ],\n",
       "       [1.        , 0.90909091, 0.62298387, 1.        ]])"
      ]
     },
     "execution_count": 77,
     "metadata": {},
     "output_type": "execute_result"
    }
   ],
   "source": [
    "re_mm"
   ]
  },
  {
   "cell_type": "code",
   "execution_count": 78,
   "metadata": {},
   "outputs": [
    {
     "data": {
      "text/plain": [
       "array([[ 1.56847345,  0.34532555, -1.20383672],\n",
       "       [ 1.56861783,  0.34532555, -1.20383672],\n",
       "       [ 1.59633829,  0.34532555, -1.20383672],\n",
       "       ...,\n",
       "       [ 2.13804235,  0.34532555, -1.20383672],\n",
       "       [ 2.13789798,  0.34532555, -1.20383672],\n",
       "       [ 2.13760922,  0.34532555, -0.53802224]])"
      ]
     },
     "execution_count": 78,
     "metadata": {},
     "output_type": "execute_result"
    }
   ],
   "source": [
    "re_sd"
   ]
  },
  {
   "cell_type": "code",
   "execution_count": 79,
   "metadata": {},
   "outputs": [],
   "source": [
    "df_nn[['YEAR','MONTH','DISTANCE_FROM_SOURCE','SOURCE_ID']]=re_mm"
   ]
  },
  {
   "cell_type": "code",
   "execution_count": 80,
   "metadata": {},
   "outputs": [],
   "source": [
    "df_nn[['WAVE_ID','TRAVEL_TIME_HOURS','MEASUREMENT_TYPE']]=re_sd"
   ]
  },
  {
   "cell_type": "code",
   "execution_count": 81,
   "metadata": {},
   "outputs": [
    {
     "data": {
      "text/html": [
       "<div>\n",
       "<style scoped>\n",
       "    .dataframe tbody tr th:only-of-type {\n",
       "        vertical-align: middle;\n",
       "    }\n",
       "\n",
       "    .dataframe tbody tr th {\n",
       "        vertical-align: top;\n",
       "    }\n",
       "\n",
       "    .dataframe thead th {\n",
       "        text-align: right;\n",
       "    }\n",
       "</style>\n",
       "<table border=\"1\" class=\"dataframe\">\n",
       "  <thead>\n",
       "    <tr style=\"text-align: right;\">\n",
       "      <th></th>\n",
       "      <th>SOURCE_ID</th>\n",
       "      <th>WAVE_ID</th>\n",
       "      <th>YEAR</th>\n",
       "      <th>MONTH</th>\n",
       "      <th>DAY</th>\n",
       "      <th>DISTANCE_FROM_SOURCE</th>\n",
       "      <th>TRAVEL_TIME_HOURS</th>\n",
       "      <th>MEASUREMENT_TYPE</th>\n",
       "      <th>MAXIMUM_HEIGHT</th>\n",
       "    </tr>\n",
       "  </thead>\n",
       "  <tbody>\n",
       "    <tr>\n",
       "      <th>0</th>\n",
       "      <td>0.000000</td>\n",
       "      <td>1.568473</td>\n",
       "      <td>0.000000</td>\n",
       "      <td>0.909091</td>\n",
       "      <td>15.0</td>\n",
       "      <td>0.514113</td>\n",
       "      <td>0.345326</td>\n",
       "      <td>-1.203837</td>\n",
       "      <td>2.3</td>\n",
       "    </tr>\n",
       "    <tr>\n",
       "      <th>1</th>\n",
       "      <td>0.000000</td>\n",
       "      <td>1.568618</td>\n",
       "      <td>0.000000</td>\n",
       "      <td>0.909091</td>\n",
       "      <td>15.0</td>\n",
       "      <td>0.514113</td>\n",
       "      <td>0.345326</td>\n",
       "      <td>-1.203837</td>\n",
       "      <td>2.3</td>\n",
       "    </tr>\n",
       "    <tr>\n",
       "      <th>2</th>\n",
       "      <td>0.011191</td>\n",
       "      <td>1.596338</td>\n",
       "      <td>0.060606</td>\n",
       "      <td>1.000000</td>\n",
       "      <td>9.0</td>\n",
       "      <td>0.070565</td>\n",
       "      <td>0.345326</td>\n",
       "      <td>-1.203837</td>\n",
       "      <td>2.3</td>\n",
       "    </tr>\n",
       "    <tr>\n",
       "      <th>3</th>\n",
       "      <td>0.011191</td>\n",
       "      <td>-1.001589</td>\n",
       "      <td>0.060606</td>\n",
       "      <td>1.000000</td>\n",
       "      <td>9.0</td>\n",
       "      <td>0.042339</td>\n",
       "      <td>0.345326</td>\n",
       "      <td>-1.203837</td>\n",
       "      <td>2.3</td>\n",
       "    </tr>\n",
       "    <tr>\n",
       "      <th>4</th>\n",
       "      <td>0.011862</td>\n",
       "      <td>-2.308782</td>\n",
       "      <td>0.068182</td>\n",
       "      <td>0.454545</td>\n",
       "      <td>4.0</td>\n",
       "      <td>0.745968</td>\n",
       "      <td>0.345326</td>\n",
       "      <td>-1.203837</td>\n",
       "      <td>2.5</td>\n",
       "    </tr>\n",
       "  </tbody>\n",
       "</table>\n",
       "</div>"
      ],
      "text/plain": [
       "   SOURCE_ID   WAVE_ID      YEAR     MONTH   DAY  DISTANCE_FROM_SOURCE  \\\n",
       "0   0.000000  1.568473  0.000000  0.909091  15.0              0.514113   \n",
       "1   0.000000  1.568618  0.000000  0.909091  15.0              0.514113   \n",
       "2   0.011191  1.596338  0.060606  1.000000   9.0              0.070565   \n",
       "3   0.011191 -1.001589  0.060606  1.000000   9.0              0.042339   \n",
       "4   0.011862 -2.308782  0.068182  0.454545   4.0              0.745968   \n",
       "\n",
       "   TRAVEL_TIME_HOURS  MEASUREMENT_TYPE  MAXIMUM_HEIGHT  \n",
       "0           0.345326         -1.203837             2.3  \n",
       "1           0.345326         -1.203837             2.3  \n",
       "2           0.345326         -1.203837             2.3  \n",
       "3           0.345326         -1.203837             2.3  \n",
       "4           0.345326         -1.203837             2.5  "
      ]
     },
     "execution_count": 81,
     "metadata": {},
     "output_type": "execute_result"
    }
   ],
   "source": [
    "df_nn.head()"
   ]
  },
  {
   "cell_type": "code",
   "execution_count": 82,
   "metadata": {},
   "outputs": [],
   "source": [
    "# splitting the data kfoldcrossvalidation to give chance ofr every part of the data for evaluation\n",
    "# kfoldcroassvalidation is gold technique to evaluate the model\n",
    "\n",
    "array = df_nn.values\n",
    "X = array[:,0:8]\n",
    "Y = array[:,8]"
   ]
  },
  {
   "cell_type": "code",
   "execution_count": 83,
   "metadata": {},
   "outputs": [],
   "source": [
    "from sklearn.model_selection import KFold\n",
    "from sklearn.model_selection import cross_val_score\n",
    "num_folds = 10\n",
    "seed = 7\n",
    "kfold = KFold(n_splits=num_folds)"
   ]
  },
  {
   "cell_type": "code",
   "execution_count": 84,
   "metadata": {},
   "outputs": [],
   "source": [
    "# knn,randomforestregressor,decisiontreeregressor,svm are some of the non-linear regression models\n",
    "# you can experiment multiple models and check which model is predicting well\n",
    "# in machine learning there is no standard model, you need to experiment and find out which is best for your data"
   ]
  },
  {
   "cell_type": "code",
   "execution_count": 111,
   "metadata": {},
   "outputs": [],
   "source": [
    "# we will use knn regressor now, because it has higher prediction as compared to\n",
    "# linear regression and takes care of non-linearity\n",
    "from sklearn.metrics import mean_squared_error,make_scorer, mean_absolute_error\n",
    "from sklearn.neighbors import KNeighborsRegressor\n",
    "model = KNeighborsRegressor(n_neighbors=5)\n",
    "error = make_scorer(mean_absolute_error)\n",
    "results = cross_val_score(model, X, Y, cv=kfold,scoring=error)"
   ]
  },
  {
   "cell_type": "code",
   "execution_count": 112,
   "metadata": {},
   "outputs": [
    {
     "data": {
      "text/plain": [
       "1.2193698581560282"
      ]
     },
     "execution_count": 112,
     "metadata": {},
     "output_type": "execute_result"
    }
   ],
   "source": [
    "results.mean()"
   ]
  },
  {
   "cell_type": "code",
   "execution_count": null,
   "metadata": {},
   "outputs": [],
   "source": [
    "# smaller the error, better the model"
   ]
  }
 ],
 "metadata": {
  "kernelspec": {
   "display_name": "Python 3",
   "language": "python",
   "name": "python3"
  },
  "language_info": {
   "codemirror_mode": {
    "name": "ipython",
    "version": 3
   },
   "file_extension": ".py",
   "mimetype": "text/x-python",
   "name": "python",
   "nbconvert_exporter": "python",
   "pygments_lexer": "ipython3",
   "version": "3.12.3"
  }
 },
 "nbformat": 4,
 "nbformat_minor": 2
}
