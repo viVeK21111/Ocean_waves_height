{
 "cells": [
  {
   "cell_type": "code",
   "execution_count": 15,
   "metadata": {},
   "outputs": [],
   "source": [
    "import pandas as pd\n",
    "df = pd.read_csv(r\"D:\\ds\\data preprocessing\\data\\waves.csv\")\n"
   ]
  },
  {
   "cell_type": "code",
   "execution_count": 16,
   "metadata": {},
   "outputs": [
    {
     "data": {
      "text/html": [
       "<div>\n",
       "<style scoped>\n",
       "    .dataframe tbody tr th:only-of-type {\n",
       "        vertical-align: middle;\n",
       "    }\n",
       "\n",
       "    .dataframe tbody tr th {\n",
       "        vertical-align: top;\n",
       "    }\n",
       "\n",
       "    .dataframe thead th {\n",
       "        text-align: right;\n",
       "    }\n",
       "</style>\n",
       "<table border=\"1\" class=\"dataframe\">\n",
       "  <thead>\n",
       "    <tr style=\"text-align: right;\">\n",
       "      <th></th>\n",
       "      <th>SOURCE_ID</th>\n",
       "      <th>WAVE_ID</th>\n",
       "      <th>YEAR</th>\n",
       "      <th>MONTH</th>\n",
       "      <th>DAY</th>\n",
       "      <th>REGION_CODE</th>\n",
       "      <th>COUNTRY</th>\n",
       "      <th>STATE/PROVINCE</th>\n",
       "      <th>LOCATION</th>\n",
       "      <th>LATITUDE</th>\n",
       "      <th>...</th>\n",
       "      <th>INJURIES</th>\n",
       "      <th>INJURY_ESTIMATE</th>\n",
       "      <th>FATALITIES</th>\n",
       "      <th>FATALITY_ESTIMATE</th>\n",
       "      <th>DAMAGE_MILLIONS_DOLLARS</th>\n",
       "      <th>DAMAGE_ESTIMATE</th>\n",
       "      <th>HOUSES_DAMAGED</th>\n",
       "      <th>HOUSE_DAMAGE_ESTIMATE</th>\n",
       "      <th>HOUSES_DESTROYED</th>\n",
       "      <th>HOUSE_DESTRUCTION_ESTIMATE</th>\n",
       "    </tr>\n",
       "  </thead>\n",
       "  <tbody>\n",
       "    <tr>\n",
       "      <th>0</th>\n",
       "      <td>1</td>\n",
       "      <td>11014</td>\n",
       "      <td>-2000</td>\n",
       "      <td>NaN</td>\n",
       "      <td>NaN</td>\n",
       "      <td>50.0</td>\n",
       "      <td>SYRIA</td>\n",
       "      <td>NaN</td>\n",
       "      <td>UGARIT</td>\n",
       "      <td>35.583</td>\n",
       "      <td>...</td>\n",
       "      <td>NaN</td>\n",
       "      <td>NaN</td>\n",
       "      <td>NaN</td>\n",
       "      <td>3.0</td>\n",
       "      <td>NaN</td>\n",
       "      <td>4.0</td>\n",
       "      <td>NaN</td>\n",
       "      <td>NaN</td>\n",
       "      <td>NaN</td>\n",
       "      <td>NaN</td>\n",
       "    </tr>\n",
       "    <tr>\n",
       "      <th>1</th>\n",
       "      <td>3</td>\n",
       "      <td>17601</td>\n",
       "      <td>-1610</td>\n",
       "      <td>NaN</td>\n",
       "      <td>NaN</td>\n",
       "      <td>50.0</td>\n",
       "      <td>SYRIA</td>\n",
       "      <td>NaN</td>\n",
       "      <td>UGARIT</td>\n",
       "      <td>35.583</td>\n",
       "      <td>...</td>\n",
       "      <td>NaN</td>\n",
       "      <td>NaN</td>\n",
       "      <td>NaN</td>\n",
       "      <td>3.0</td>\n",
       "      <td>NaN</td>\n",
       "      <td>3.0</td>\n",
       "      <td>NaN</td>\n",
       "      <td>NaN</td>\n",
       "      <td>NaN</td>\n",
       "      <td>NaN</td>\n",
       "    </tr>\n",
       "    <tr>\n",
       "      <th>2</th>\n",
       "      <td>3</td>\n",
       "      <td>1</td>\n",
       "      <td>-1610</td>\n",
       "      <td>NaN</td>\n",
       "      <td>NaN</td>\n",
       "      <td>50.0</td>\n",
       "      <td>GREECE</td>\n",
       "      <td>NaN</td>\n",
       "      <td>N. AND E. COAST CRETE</td>\n",
       "      <td>35.500</td>\n",
       "      <td>...</td>\n",
       "      <td>NaN</td>\n",
       "      <td>NaN</td>\n",
       "      <td>NaN</td>\n",
       "      <td>3.0</td>\n",
       "      <td>NaN</td>\n",
       "      <td>3.0</td>\n",
       "      <td>NaN</td>\n",
       "      <td>NaN</td>\n",
       "      <td>NaN</td>\n",
       "      <td>NaN</td>\n",
       "    </tr>\n",
       "    <tr>\n",
       "      <th>3</th>\n",
       "      <td>9</td>\n",
       "      <td>2</td>\n",
       "      <td>-479</td>\n",
       "      <td>NaN</td>\n",
       "      <td>NaN</td>\n",
       "      <td>50.0</td>\n",
       "      <td>GREECE</td>\n",
       "      <td>NaN</td>\n",
       "      <td>POTIDAEA, MACEDONIA</td>\n",
       "      <td>40.300</td>\n",
       "      <td>...</td>\n",
       "      <td>NaN</td>\n",
       "      <td>NaN</td>\n",
       "      <td>NaN</td>\n",
       "      <td>3.0</td>\n",
       "      <td>NaN</td>\n",
       "      <td>NaN</td>\n",
       "      <td>NaN</td>\n",
       "      <td>NaN</td>\n",
       "      <td>NaN</td>\n",
       "      <td>NaN</td>\n",
       "    </tr>\n",
       "    <tr>\n",
       "      <th>4</th>\n",
       "      <td>10</td>\n",
       "      <td>19364</td>\n",
       "      <td>-426</td>\n",
       "      <td>6.0</td>\n",
       "      <td>NaN</td>\n",
       "      <td>50.0</td>\n",
       "      <td>GREECE</td>\n",
       "      <td>NaN</td>\n",
       "      <td>TARFI</td>\n",
       "      <td>NaN</td>\n",
       "      <td>...</td>\n",
       "      <td>NaN</td>\n",
       "      <td>NaN</td>\n",
       "      <td>NaN</td>\n",
       "      <td>NaN</td>\n",
       "      <td>NaN</td>\n",
       "      <td>NaN</td>\n",
       "      <td>NaN</td>\n",
       "      <td>NaN</td>\n",
       "      <td>NaN</td>\n",
       "      <td>NaN</td>\n",
       "    </tr>\n",
       "  </tbody>\n",
       "</table>\n",
       "<p>5 rows × 30 columns</p>\n",
       "</div>"
      ],
      "text/plain": [
       "   SOURCE_ID  WAVE_ID  YEAR  MONTH  DAY  REGION_CODE COUNTRY STATE/PROVINCE  \\\n",
       "0          1    11014 -2000    NaN  NaN         50.0   SYRIA            NaN   \n",
       "1          3    17601 -1610    NaN  NaN         50.0   SYRIA            NaN   \n",
       "2          3        1 -1610    NaN  NaN         50.0  GREECE            NaN   \n",
       "3          9        2  -479    NaN  NaN         50.0  GREECE            NaN   \n",
       "4         10    19364  -426    6.0  NaN         50.0  GREECE            NaN   \n",
       "\n",
       "                LOCATION  LATITUDE  ...  INJURIES  INJURY_ESTIMATE  \\\n",
       "0                 UGARIT    35.583  ...       NaN              NaN   \n",
       "1                 UGARIT    35.583  ...       NaN              NaN   \n",
       "2  N. AND E. COAST CRETE    35.500  ...       NaN              NaN   \n",
       "3    POTIDAEA, MACEDONIA    40.300  ...       NaN              NaN   \n",
       "4                  TARFI       NaN  ...       NaN              NaN   \n",
       "\n",
       "   FATALITIES  FATALITY_ESTIMATE DAMAGE_MILLIONS_DOLLARS  DAMAGE_ESTIMATE  \\\n",
       "0         NaN                3.0                     NaN              4.0   \n",
       "1         NaN                3.0                     NaN              3.0   \n",
       "2         NaN                3.0                     NaN              3.0   \n",
       "3         NaN                3.0                     NaN              NaN   \n",
       "4         NaN                NaN                     NaN              NaN   \n",
       "\n",
       "   HOUSES_DAMAGED HOUSE_DAMAGE_ESTIMATE  HOUSES_DESTROYED  \\\n",
       "0             NaN                   NaN               NaN   \n",
       "1             NaN                   NaN               NaN   \n",
       "2             NaN                   NaN               NaN   \n",
       "3             NaN                   NaN               NaN   \n",
       "4             NaN                   NaN               NaN   \n",
       "\n",
       "   HOUSE_DESTRUCTION_ESTIMATE  \n",
       "0                         NaN  \n",
       "1                         NaN  \n",
       "2                         NaN  \n",
       "3                         NaN  \n",
       "4                         NaN  \n",
       "\n",
       "[5 rows x 30 columns]"
      ]
     },
     "execution_count": 16,
     "metadata": {},
     "output_type": "execute_result"
    }
   ],
   "source": [
    "df.head()"
   ]
  },
  {
   "cell_type": "code",
   "execution_count": 17,
   "metadata": {},
   "outputs": [],
   "source": [
    "# we will predict the height of the wave based on the given attributes"
   ]
  },
  {
   "cell_type": "code",
   "execution_count": 18,
   "metadata": {},
   "outputs": [
    {
     "data": {
      "text/plain": [
       "Index(['SOURCE_ID', 'WAVE_ID', 'YEAR', 'MONTH', 'DAY', 'REGION_CODE',\n",
       "       'COUNTRY', 'STATE/PROVINCE', 'LOCATION', 'LATITUDE', 'LONGITUDE',\n",
       "       'DISTANCE_FROM_SOURCE', 'TRAVEL_TIME_HOURS', 'TRAVEL_TIME_MINUTES',\n",
       "       'VALIDITY', 'MEASUREMENT_TYPE', 'PERIOD', 'FIRST_MOTION',\n",
       "       'MAXIMUM_HEIGHT', 'HORIZONTAL_INUNDATION', 'INJURIES',\n",
       "       'INJURY_ESTIMATE', 'FATALITIES', 'FATALITY_ESTIMATE',\n",
       "       'DAMAGE_MILLIONS_DOLLARS', 'DAMAGE_ESTIMATE', 'HOUSES_DAMAGED',\n",
       "       'HOUSE_DAMAGE_ESTIMATE', 'HOUSES_DESTROYED',\n",
       "       'HOUSE_DESTRUCTION_ESTIMATE'],\n",
       "      dtype='object')"
      ]
     },
     "execution_count": 18,
     "metadata": {},
     "output_type": "execute_result"
    }
   ],
   "source": [
    "df.columns"
   ]
  },
  {
   "cell_type": "code",
   "execution_count": 19,
   "metadata": {},
   "outputs": [],
   "source": [
    "nanl=df.isna().mean()*100 # columns with nan value percentage"
   ]
  },
  {
   "cell_type": "code",
   "execution_count": 20,
   "metadata": {},
   "outputs": [
    {
     "data": {
      "text/plain": [
       "Index(['SOURCE_ID', 'WAVE_ID', 'YEAR', 'MONTH', 'DAY', 'REGION_CODE',\n",
       "       'COUNTRY', 'STATE/PROVINCE', 'LOCATION', 'LATITUDE', 'LONGITUDE',\n",
       "       'DISTANCE_FROM_SOURCE', 'TRAVEL_TIME_HOURS', 'TRAVEL_TIME_MINUTES',\n",
       "       'MEASUREMENT_TYPE', 'MAXIMUM_HEIGHT', 'HORIZONTAL_INUNDATION'],\n",
       "      dtype='object')"
      ]
     },
     "execution_count": 20,
     "metadata": {},
     "output_type": "execute_result"
    }
   ],
   "source": [
    "# removing the columsn with more than 90% of nan values to produce more generalized model\n",
    "cols =nanl[nanl <=90].index \n",
    "cols"
   ]
  },
  {
   "cell_type": "code",
   "execution_count": 21,
   "metadata": {},
   "outputs": [],
   "source": [
    "df_n = df[cols]"
   ]
  },
  {
   "cell_type": "code",
   "execution_count": 22,
   "metadata": {},
   "outputs": [
    {
     "data": {
      "text/html": [
       "<div>\n",
       "<style scoped>\n",
       "    .dataframe tbody tr th:only-of-type {\n",
       "        vertical-align: middle;\n",
       "    }\n",
       "\n",
       "    .dataframe tbody tr th {\n",
       "        vertical-align: top;\n",
       "    }\n",
       "\n",
       "    .dataframe thead th {\n",
       "        text-align: right;\n",
       "    }\n",
       "</style>\n",
       "<table border=\"1\" class=\"dataframe\">\n",
       "  <thead>\n",
       "    <tr style=\"text-align: right;\">\n",
       "      <th></th>\n",
       "      <th>SOURCE_ID</th>\n",
       "      <th>WAVE_ID</th>\n",
       "      <th>YEAR</th>\n",
       "      <th>MONTH</th>\n",
       "      <th>DAY</th>\n",
       "      <th>REGION_CODE</th>\n",
       "      <th>COUNTRY</th>\n",
       "      <th>STATE/PROVINCE</th>\n",
       "      <th>LOCATION</th>\n",
       "      <th>LATITUDE</th>\n",
       "      <th>LONGITUDE</th>\n",
       "      <th>DISTANCE_FROM_SOURCE</th>\n",
       "      <th>TRAVEL_TIME_HOURS</th>\n",
       "      <th>TRAVEL_TIME_MINUTES</th>\n",
       "      <th>MEASUREMENT_TYPE</th>\n",
       "      <th>MAXIMUM_HEIGHT</th>\n",
       "      <th>HORIZONTAL_INUNDATION</th>\n",
       "    </tr>\n",
       "  </thead>\n",
       "  <tbody>\n",
       "    <tr>\n",
       "      <th>0</th>\n",
       "      <td>1</td>\n",
       "      <td>11014</td>\n",
       "      <td>-2000</td>\n",
       "      <td>NaN</td>\n",
       "      <td>NaN</td>\n",
       "      <td>50.0</td>\n",
       "      <td>SYRIA</td>\n",
       "      <td>NaN</td>\n",
       "      <td>UGARIT</td>\n",
       "      <td>35.583</td>\n",
       "      <td>35.75</td>\n",
       "      <td>12.0</td>\n",
       "      <td>NaN</td>\n",
       "      <td>NaN</td>\n",
       "      <td>1.0</td>\n",
       "      <td>NaN</td>\n",
       "      <td>NaN</td>\n",
       "    </tr>\n",
       "    <tr>\n",
       "      <th>1</th>\n",
       "      <td>3</td>\n",
       "      <td>17601</td>\n",
       "      <td>-1610</td>\n",
       "      <td>NaN</td>\n",
       "      <td>NaN</td>\n",
       "      <td>50.0</td>\n",
       "      <td>SYRIA</td>\n",
       "      <td>NaN</td>\n",
       "      <td>UGARIT</td>\n",
       "      <td>35.583</td>\n",
       "      <td>35.75</td>\n",
       "      <td>935.0</td>\n",
       "      <td>NaN</td>\n",
       "      <td>NaN</td>\n",
       "      <td>1.0</td>\n",
       "      <td>NaN</td>\n",
       "      <td>NaN</td>\n",
       "    </tr>\n",
       "    <tr>\n",
       "      <th>2</th>\n",
       "      <td>3</td>\n",
       "      <td>1</td>\n",
       "      <td>-1610</td>\n",
       "      <td>NaN</td>\n",
       "      <td>NaN</td>\n",
       "      <td>50.0</td>\n",
       "      <td>GREECE</td>\n",
       "      <td>NaN</td>\n",
       "      <td>N. AND E. COAST CRETE</td>\n",
       "      <td>35.500</td>\n",
       "      <td>25.00</td>\n",
       "      <td>106.0</td>\n",
       "      <td>NaN</td>\n",
       "      <td>NaN</td>\n",
       "      <td>1.0</td>\n",
       "      <td>NaN</td>\n",
       "      <td>NaN</td>\n",
       "    </tr>\n",
       "    <tr>\n",
       "      <th>3</th>\n",
       "      <td>9</td>\n",
       "      <td>2</td>\n",
       "      <td>-479</td>\n",
       "      <td>NaN</td>\n",
       "      <td>NaN</td>\n",
       "      <td>50.0</td>\n",
       "      <td>GREECE</td>\n",
       "      <td>NaN</td>\n",
       "      <td>POTIDAEA, MACEDONIA</td>\n",
       "      <td>40.300</td>\n",
       "      <td>23.33</td>\n",
       "      <td>67.0</td>\n",
       "      <td>NaN</td>\n",
       "      <td>NaN</td>\n",
       "      <td>1.0</td>\n",
       "      <td>NaN</td>\n",
       "      <td>NaN</td>\n",
       "    </tr>\n",
       "    <tr>\n",
       "      <th>4</th>\n",
       "      <td>10</td>\n",
       "      <td>19364</td>\n",
       "      <td>-426</td>\n",
       "      <td>6.0</td>\n",
       "      <td>NaN</td>\n",
       "      <td>50.0</td>\n",
       "      <td>GREECE</td>\n",
       "      <td>NaN</td>\n",
       "      <td>TARFI</td>\n",
       "      <td>NaN</td>\n",
       "      <td>NaN</td>\n",
       "      <td>NaN</td>\n",
       "      <td>NaN</td>\n",
       "      <td>NaN</td>\n",
       "      <td>1.0</td>\n",
       "      <td>NaN</td>\n",
       "      <td>NaN</td>\n",
       "    </tr>\n",
       "  </tbody>\n",
       "</table>\n",
       "</div>"
      ],
      "text/plain": [
       "   SOURCE_ID  WAVE_ID  YEAR  MONTH  DAY  REGION_CODE COUNTRY STATE/PROVINCE  \\\n",
       "0          1    11014 -2000    NaN  NaN         50.0   SYRIA            NaN   \n",
       "1          3    17601 -1610    NaN  NaN         50.0   SYRIA            NaN   \n",
       "2          3        1 -1610    NaN  NaN         50.0  GREECE            NaN   \n",
       "3          9        2  -479    NaN  NaN         50.0  GREECE            NaN   \n",
       "4         10    19364  -426    6.0  NaN         50.0  GREECE            NaN   \n",
       "\n",
       "                LOCATION  LATITUDE  LONGITUDE  DISTANCE_FROM_SOURCE  \\\n",
       "0                 UGARIT    35.583      35.75                  12.0   \n",
       "1                 UGARIT    35.583      35.75                 935.0   \n",
       "2  N. AND E. COAST CRETE    35.500      25.00                 106.0   \n",
       "3    POTIDAEA, MACEDONIA    40.300      23.33                  67.0   \n",
       "4                  TARFI       NaN        NaN                   NaN   \n",
       "\n",
       "   TRAVEL_TIME_HOURS  TRAVEL_TIME_MINUTES  MEASUREMENT_TYPE  MAXIMUM_HEIGHT  \\\n",
       "0                NaN                  NaN               1.0             NaN   \n",
       "1                NaN                  NaN               1.0             NaN   \n",
       "2                NaN                  NaN               1.0             NaN   \n",
       "3                NaN                  NaN               1.0             NaN   \n",
       "4                NaN                  NaN               1.0             NaN   \n",
       "\n",
       "   HORIZONTAL_INUNDATION  \n",
       "0                    NaN  \n",
       "1                    NaN  \n",
       "2                    NaN  \n",
       "3                    NaN  \n",
       "4                    NaN  "
      ]
     },
     "execution_count": 22,
     "metadata": {},
     "output_type": "execute_result"
    }
   ],
   "source": [
    "df_n.head()"
   ]
  },
  {
   "cell_type": "code",
   "execution_count": 23,
   "metadata": {},
   "outputs": [
    {
     "data": {
      "text/plain": [
       "SOURCE_ID                 0.000000\n",
       "WAVE_ID                   0.000000\n",
       "YEAR                      0.000000\n",
       "MONTH                     0.396901\n",
       "DAY                       0.812884\n",
       "REGION_CODE               0.003816\n",
       "COUNTRY                   0.011449\n",
       "STATE/PROVINCE           19.833607\n",
       "LOCATION                  0.019082\n",
       "LATITUDE                  2.335610\n",
       "LONGITUDE                 2.335610\n",
       "DISTANCE_FROM_SOURCE      3.369843\n",
       "TRAVEL_TIME_HOURS        87.512880\n",
       "TRAVEL_TIME_MINUTES      87.608289\n",
       "MEASUREMENT_TYPE          1.102927\n",
       "MAXIMUM_HEIGHT           14.784567\n",
       "HORIZONTAL_INUNDATION    66.450406\n",
       "dtype: float64"
      ]
     },
     "execution_count": 23,
     "metadata": {},
     "output_type": "execute_result"
    }
   ],
   "source": [
    "nanl2=df_n.isna().mean()*100 \n",
    "nanl2"
   ]
  },
  {
   "cell_type": "code",
   "execution_count": 24,
   "metadata": {},
   "outputs": [
    {
     "data": {
      "text/plain": [
       "['MONTH',\n",
       " 'DAY',\n",
       " 'STATE/PROVINCE',\n",
       " 'LATITUDE',\n",
       " 'LONGITUDE',\n",
       " 'DISTANCE_FROM_SOURCE',\n",
       " 'TRAVEL_TIME_HOURS',\n",
       " 'TRAVEL_TIME_MINUTES',\n",
       " 'MEASUREMENT_TYPE',\n",
       " 'MAXIMUM_HEIGHT',\n",
       " 'HORIZONTAL_INUNDATION']"
      ]
     },
     "execution_count": 24,
     "metadata": {},
     "output_type": "execute_result"
    }
   ],
   "source": [
    "coli=nanl2[nanl2 >=0.2].index  # columsn which have nan values more than 1%\n",
    "coli=list(coli)\n",
    "coli"
   ]
  },
  {
   "cell_type": "code",
   "execution_count": 25,
   "metadata": {},
   "outputs": [
    {
     "data": {
      "text/plain": [
       "['MONTH',\n",
       " 'DAY',\n",
       " 'LATITUDE',\n",
       " 'LONGITUDE',\n",
       " 'DISTANCE_FROM_SOURCE',\n",
       " 'TRAVEL_TIME_HOURS',\n",
       " 'TRAVEL_TIME_MINUTES',\n",
       " 'MEASUREMENT_TYPE',\n",
       " 'MAXIMUM_HEIGHT',\n",
       " 'HORIZONTAL_INUNDATION']"
      ]
     },
     "execution_count": 25,
     "metadata": {},
     "output_type": "execute_result"
    }
   ],
   "source": [
    "coli.pop(2) # removing categorical data\n",
    "coli"
   ]
  },
  {
   "cell_type": "markdown",
   "metadata": {},
   "source": [
    "## checking distributions of columns"
   ]
  },
  {
   "cell_type": "code",
   "execution_count": 26,
   "metadata": {},
   "outputs": [
    {
     "data": {
      "image/png": "[encoded data removed]",
      "text/plain": [
       "<Figure size 1500x1000 with 12 Axes>"
      ]
     },
     "metadata": {},
     "output_type": "display_data"
    }
   ],
   "source": [
    "import matplotlib.pyplot as plt\n",
    "fig, axs = plt.subplots(4, 3, figsize=(15, 10))  # 4 row, 3 columns\n",
    "k=0\n",
    "for i in range(0,4):\n",
    "    for j in range(0,3):\n",
    "        if(i==3 and j>0):\n",
    "            break\n",
    "        axs[i,j].hist(df_n[coli[k]],bins=10)\n",
    "        axs[i,j].set_title(coli[k])\n",
    "        k+=1\n",
    "plt.subplots_adjust(wspace=0.8, hspace=0.5)\n",
    "plt.show()"
   ]
  },
  {
   "cell_type": "code",
   "execution_count": 27,
   "metadata": {},
   "outputs": [],
   "source": [
    "# we can also check the skew of the data using skew method\n",
    "# skw = df_n.skew()\n",
    "# positive value indicates right skew, negative value indicates left skew and a value closer to 0 indicates less skew \n",
    "# but to do this, the whole dataset must contain numerical values"
   ]
  },
  {
   "cell_type": "code",
   "execution_count": 28,
   "metadata": {},
   "outputs": [],
   "source": [
    "# as you observe the above data, \n",
    "#->TRAVEL_TIME_HOURS is right skewed\n",
    "#->TRAVEL_TIME_MINUTES is somewhat normal normaldistribution\n",
    "#->MAXIMUM_HEIGHT is right skewed\n",
    "#->HORIZONTAL_INUNDATION is right skewed \n",
    "#->MONTH AND DAY are multimodel distribution\n",
    "\n",
    "# for normal distribution we can replace nan with mean value\n",
    "# for skewed data we can replace it with median\n",
    "# for multimodal distribtution you can replace the nan values with mode\n",
    "\n",
    "# for column STATE/PROVINCE as it contains categorical values, you can simple the nan values with mode\n"
   ]
  },
  {
   "cell_type": "markdown",
   "metadata": {},
   "source": [
    "# replacing nan values "
   ]
  },
  {
   "cell_type": "code",
   "execution_count": 29,
   "metadata": {},
   "outputs": [
    {
     "name": "stderr",
     "output_type": "stream",
     "text": [
      "C:\\Users\\vivek\\AppData\\Local\\Temp\\ipykernel_21560\\2613520030.py:1: SettingWithCopyWarning: \n",
      "A value is trying to be set on a copy of a slice from a DataFrame.\n",
      "Try using .loc[row_indexer,col_indexer] = value instead\n",
      "\n",
      "See the caveats in the documentation: https://pandas.pydata.org/pandas-docs/stable/user_guide/indexing.html#returning-a-view-versus-a-copy\n",
      "  df_n['DAY']=df_n['DAY'].fillna(df_n['DAY'].mode()[0])\n",
      "C:\\Users\\vivek\\AppData\\Local\\Temp\\ipykernel_21560\\2613520030.py:2: SettingWithCopyWarning: \n",
      "A value is trying to be set on a copy of a slice from a DataFrame.\n",
      "Try using .loc[row_indexer,col_indexer] = value instead\n",
      "\n",
      "See the caveats in the documentation: https://pandas.pydata.org/pandas-docs/stable/user_guide/indexing.html#returning-a-view-versus-a-copy\n",
      "  df_n['MONTH']=df_n['MONTH'].fillna(df_n['MONTH'].mode()[0])\n",
      "C:\\Users\\vivek\\AppData\\Local\\Temp\\ipykernel_21560\\2613520030.py:3: SettingWithCopyWarning: \n",
      "A value is trying to be set on a copy of a slice from a DataFrame.\n",
      "Try using .loc[row_indexer,col_indexer] = value instead\n",
      "\n",
      "See the caveats in the documentation: https://pandas.pydata.org/pandas-docs/stable/user_guide/indexing.html#returning-a-view-versus-a-copy\n",
      "  df_n['TRAVEL_TIME_HOURS']=df_n['TRAVEL_TIME_HOURS'].fillna(df_n['TRAVEL_TIME_HOURS'].median())\n",
      "C:\\Users\\vivek\\AppData\\Local\\Temp\\ipykernel_21560\\2613520030.py:4: SettingWithCopyWarning: \n",
      "A value is trying to be set on a copy of a slice from a DataFrame.\n",
      "Try using .loc[row_indexer,col_indexer] = value instead\n",
      "\n",
      "See the caveats in the documentation: https://pandas.pydata.org/pandas-docs/stable/user_guide/indexing.html#returning-a-view-versus-a-copy\n",
      "  df_n['TRAVEL_TIME_MINUTES']=df_n['TRAVEL_TIME_MINUTES'].fillna(df_n['TRAVEL_TIME_MINUTES'].mean())\n",
      "C:\\Users\\vivek\\AppData\\Local\\Temp\\ipykernel_21560\\2613520030.py:5: SettingWithCopyWarning: \n",
      "A value is trying to be set on a copy of a slice from a DataFrame.\n",
      "Try using .loc[row_indexer,col_indexer] = value instead\n",
      "\n",
      "See the caveats in the documentation: https://pandas.pydata.org/pandas-docs/stable/user_guide/indexing.html#returning-a-view-versus-a-copy\n",
      "  df_n['LATITUDE']=df_n['LATITUDE'].fillna(df_n['LATITUDE'].median())\n",
      "C:\\Users\\vivek\\AppData\\Local\\Temp\\ipykernel_21560\\2613520030.py:6: SettingWithCopyWarning: \n",
      "A value is trying to be set on a copy of a slice from a DataFrame.\n",
      "Try using .loc[row_indexer,col_indexer] = value instead\n",
      "\n",
      "See the caveats in the documentation: https://pandas.pydata.org/pandas-docs/stable/user_guide/indexing.html#returning-a-view-versus-a-copy\n",
      "  df_n['LONGITUDE']=df_n['LONGITUDE'].fillna(df_n['LONGITUDE'].median())\n",
      "C:\\Users\\vivek\\AppData\\Local\\Temp\\ipykernel_21560\\2613520030.py:7: SettingWithCopyWarning: \n",
      "A value is trying to be set on a copy of a slice from a DataFrame.\n",
      "Try using .loc[row_indexer,col_indexer] = value instead\n",
      "\n",
      "See the caveats in the documentation: https://pandas.pydata.org/pandas-docs/stable/user_guide/indexing.html#returning-a-view-versus-a-copy\n",
      "  df_n['DISTANCE_FROM_SOURCE']=df_n['DISTANCE_FROM_SOURCE'].fillna(df_n['DISTANCE_FROM_SOURCE'].median())\n",
      "C:\\Users\\vivek\\AppData\\Local\\Temp\\ipykernel_21560\\2613520030.py:8: SettingWithCopyWarning: \n",
      "A value is trying to be set on a copy of a slice from a DataFrame.\n",
      "Try using .loc[row_indexer,col_indexer] = value instead\n",
      "\n",
      "See the caveats in the documentation: https://pandas.pydata.org/pandas-docs/stable/user_guide/indexing.html#returning-a-view-versus-a-copy\n",
      "  df_n['MEASUREMENT_TYPE']=df_n['MEASUREMENT_TYPE'].fillna(df_n['MEASUREMENT_TYPE'].mean())\n",
      "C:\\Users\\vivek\\AppData\\Local\\Temp\\ipykernel_21560\\2613520030.py:9: SettingWithCopyWarning: \n",
      "A value is trying to be set on a copy of a slice from a DataFrame.\n",
      "Try using .loc[row_indexer,col_indexer] = value instead\n",
      "\n",
      "See the caveats in the documentation: https://pandas.pydata.org/pandas-docs/stable/user_guide/indexing.html#returning-a-view-versus-a-copy\n",
      "  df_n['MAXIMUM_HEIGHT']=df_n['MAXIMUM_HEIGHT'].fillna(df_n['MAXIMUM_HEIGHT'].median())\n",
      "C:\\Users\\vivek\\AppData\\Local\\Temp\\ipykernel_21560\\2613520030.py:10: SettingWithCopyWarning: \n",
      "A value is trying to be set on a copy of a slice from a DataFrame.\n",
      "Try using .loc[row_indexer,col_indexer] = value instead\n",
      "\n",
      "See the caveats in the documentation: https://pandas.pydata.org/pandas-docs/stable/user_guide/indexing.html#returning-a-view-versus-a-copy\n",
      "  df_n['HORIZONTAL_INUNDATION']=df_n['HORIZONTAL_INUNDATION'].fillna(df_n['HORIZONTAL_INUNDATION'].median())\n",
      "C:\\Users\\vivek\\AppData\\Local\\Temp\\ipykernel_21560\\2613520030.py:11: SettingWithCopyWarning: \n",
      "A value is trying to be set on a copy of a slice from a DataFrame.\n",
      "Try using .loc[row_indexer,col_indexer] = value instead\n",
      "\n",
      "See the caveats in the documentation: https://pandas.pydata.org/pandas-docs/stable/user_guide/indexing.html#returning-a-view-versus-a-copy\n",
      "  df_n['STATE/PROVINCE']=df_n['STATE/PROVINCE'].fillna(df_n['STATE/PROVINCE'].mode()[0])\n"
     ]
    }
   ],
   "source": [
    "df_n['DAY']=df_n['DAY'].fillna(df_n['DAY'].mode()[0])\n",
    "df_n['MONTH']=df_n['MONTH'].fillna(df_n['MONTH'].mode()[0])\n",
    "df_n['TRAVEL_TIME_HOURS']=df_n['TRAVEL_TIME_HOURS'].fillna(df_n['TRAVEL_TIME_HOURS'].median())\n",
    "df_n['TRAVEL_TIME_MINUTES']=df_n['TRAVEL_TIME_MINUTES'].fillna(df_n['TRAVEL_TIME_MINUTES'].mean())\n",
    "df_n['LATITUDE']=df_n['LATITUDE'].fillna(df_n['LATITUDE'].median())\n",
    "df_n['LONGITUDE']=df_n['LONGITUDE'].fillna(df_n['LONGITUDE'].median())\n",
    "df_n['DISTANCE_FROM_SOURCE']=df_n['DISTANCE_FROM_SOURCE'].fillna(df_n['DISTANCE_FROM_SOURCE'].median())\n",
    "df_n['MEASUREMENT_TYPE']=df_n['MEASUREMENT_TYPE'].fillna(df_n['MEASUREMENT_TYPE'].mean())\n",
    "df_n['MAXIMUM_HEIGHT']=df_n['MAXIMUM_HEIGHT'].fillna(df_n['MAXIMUM_HEIGHT'].median())\n",
    "df_n['HORIZONTAL_INUNDATION']=df_n['HORIZONTAL_INUNDATION'].fillna(df_n['HORIZONTAL_INUNDATION'].median())\n",
    "df_n['STATE/PROVINCE']=df_n['STATE/PROVINCE'].fillna(df_n['STATE/PROVINCE'].mode()[0])"
   ]
  },
  {
   "cell_type": "code",
   "execution_count": 30,
   "metadata": {},
   "outputs": [
    {
     "data": {
      "text/plain": [
       "SOURCE_ID                0.000000\n",
       "WAVE_ID                  0.000000\n",
       "YEAR                     0.000000\n",
       "MONTH                    0.000000\n",
       "DAY                      0.000000\n",
       "REGION_CODE              0.003816\n",
       "COUNTRY                  0.011449\n",
       "STATE/PROVINCE           0.000000\n",
       "LOCATION                 0.019082\n",
       "LATITUDE                 0.000000\n",
       "LONGITUDE                0.000000\n",
       "DISTANCE_FROM_SOURCE     0.000000\n",
       "TRAVEL_TIME_HOURS        0.000000\n",
       "TRAVEL_TIME_MINUTES      0.000000\n",
       "MEASUREMENT_TYPE         0.000000\n",
       "MAXIMUM_HEIGHT           0.000000\n",
       "HORIZONTAL_INUNDATION    0.000000\n",
       "dtype: float64"
      ]
     },
     "execution_count": 30,
     "metadata": {},
     "output_type": "execute_result"
    }
   ],
   "source": [
    "df_n.isna().mean()*100"
   ]
  },
  {
   "cell_type": "code",
   "execution_count": 31,
   "metadata": {},
   "outputs": [
    {
     "data": {
      "text/plain": [
       "(26203, 17)"
      ]
     },
     "execution_count": 31,
     "metadata": {},
     "output_type": "execute_result"
    }
   ],
   "source": [
    "df_n.shape"
   ]
  },
  {
   "cell_type": "code",
   "execution_count": 32,
   "metadata": {},
   "outputs": [
    {
     "data": {
      "text/plain": [
       "2.6203000000000003"
      ]
     },
     "execution_count": 32,
     "metadata": {},
     "output_type": "execute_result"
    }
   ],
   "source": [
    "(26203*0.01)/100"
   ]
  },
  {
   "cell_type": "code",
   "execution_count": 33,
   "metadata": {},
   "outputs": [
    {
     "data": {
      "text/html": [
       "<div>\n",
       "<style scoped>\n",
       "    .dataframe tbody tr th:only-of-type {\n",
       "        vertical-align: middle;\n",
       "    }\n",
       "\n",
       "    .dataframe tbody tr th {\n",
       "        vertical-align: top;\n",
       "    }\n",
       "\n",
       "    .dataframe thead th {\n",
       "        text-align: right;\n",
       "    }\n",
       "</style>\n",
       "<table border=\"1\" class=\"dataframe\">\n",
       "  <thead>\n",
       "    <tr style=\"text-align: right;\">\n",
       "      <th></th>\n",
       "      <th>SOURCE_ID</th>\n",
       "      <th>WAVE_ID</th>\n",
       "      <th>YEAR</th>\n",
       "      <th>MONTH</th>\n",
       "      <th>DAY</th>\n",
       "      <th>REGION_CODE</th>\n",
       "      <th>COUNTRY</th>\n",
       "      <th>STATE/PROVINCE</th>\n",
       "      <th>LOCATION</th>\n",
       "      <th>LATITUDE</th>\n",
       "      <th>LONGITUDE</th>\n",
       "      <th>DISTANCE_FROM_SOURCE</th>\n",
       "      <th>TRAVEL_TIME_HOURS</th>\n",
       "      <th>TRAVEL_TIME_MINUTES</th>\n",
       "      <th>MEASUREMENT_TYPE</th>\n",
       "      <th>MAXIMUM_HEIGHT</th>\n",
       "      <th>HORIZONTAL_INUNDATION</th>\n",
       "    </tr>\n",
       "  </thead>\n",
       "  <tbody>\n",
       "    <tr>\n",
       "      <th>0</th>\n",
       "      <td>1</td>\n",
       "      <td>11014</td>\n",
       "      <td>-2000</td>\n",
       "      <td>3.0</td>\n",
       "      <td>11.0</td>\n",
       "      <td>50.0</td>\n",
       "      <td>SYRIA</td>\n",
       "      <td>MIYAGI</td>\n",
       "      <td>UGARIT</td>\n",
       "      <td>35.583</td>\n",
       "      <td>35.75</td>\n",
       "      <td>12.0</td>\n",
       "      <td>4.0</td>\n",
       "      <td>29.21158</td>\n",
       "      <td>1.0</td>\n",
       "      <td>2.3</td>\n",
       "      <td>32.0</td>\n",
       "    </tr>\n",
       "    <tr>\n",
       "      <th>1</th>\n",
       "      <td>3</td>\n",
       "      <td>17601</td>\n",
       "      <td>-1610</td>\n",
       "      <td>3.0</td>\n",
       "      <td>11.0</td>\n",
       "      <td>50.0</td>\n",
       "      <td>SYRIA</td>\n",
       "      <td>MIYAGI</td>\n",
       "      <td>UGARIT</td>\n",
       "      <td>35.583</td>\n",
       "      <td>35.75</td>\n",
       "      <td>935.0</td>\n",
       "      <td>4.0</td>\n",
       "      <td>29.21158</td>\n",
       "      <td>1.0</td>\n",
       "      <td>2.3</td>\n",
       "      <td>32.0</td>\n",
       "    </tr>\n",
       "    <tr>\n",
       "      <th>2</th>\n",
       "      <td>3</td>\n",
       "      <td>1</td>\n",
       "      <td>-1610</td>\n",
       "      <td>3.0</td>\n",
       "      <td>11.0</td>\n",
       "      <td>50.0</td>\n",
       "      <td>GREECE</td>\n",
       "      <td>MIYAGI</td>\n",
       "      <td>N. AND E. COAST CRETE</td>\n",
       "      <td>35.500</td>\n",
       "      <td>25.00</td>\n",
       "      <td>106.0</td>\n",
       "      <td>4.0</td>\n",
       "      <td>29.21158</td>\n",
       "      <td>1.0</td>\n",
       "      <td>2.3</td>\n",
       "      <td>32.0</td>\n",
       "    </tr>\n",
       "    <tr>\n",
       "      <th>3</th>\n",
       "      <td>9</td>\n",
       "      <td>2</td>\n",
       "      <td>-479</td>\n",
       "      <td>3.0</td>\n",
       "      <td>11.0</td>\n",
       "      <td>50.0</td>\n",
       "      <td>GREECE</td>\n",
       "      <td>MIYAGI</td>\n",
       "      <td>POTIDAEA, MACEDONIA</td>\n",
       "      <td>40.300</td>\n",
       "      <td>23.33</td>\n",
       "      <td>67.0</td>\n",
       "      <td>4.0</td>\n",
       "      <td>29.21158</td>\n",
       "      <td>1.0</td>\n",
       "      <td>2.3</td>\n",
       "      <td>32.0</td>\n",
       "    </tr>\n",
       "    <tr>\n",
       "      <th>4</th>\n",
       "      <td>10</td>\n",
       "      <td>19364</td>\n",
       "      <td>-426</td>\n",
       "      <td>6.0</td>\n",
       "      <td>11.0</td>\n",
       "      <td>50.0</td>\n",
       "      <td>GREECE</td>\n",
       "      <td>MIYAGI</td>\n",
       "      <td>TARFI</td>\n",
       "      <td>34.500</td>\n",
       "      <td>133.25</td>\n",
       "      <td>255.0</td>\n",
       "      <td>4.0</td>\n",
       "      <td>29.21158</td>\n",
       "      <td>1.0</td>\n",
       "      <td>2.3</td>\n",
       "      <td>32.0</td>\n",
       "    </tr>\n",
       "  </tbody>\n",
       "</table>\n",
       "</div>"
      ],
      "text/plain": [
       "   SOURCE_ID  WAVE_ID  YEAR  MONTH   DAY  REGION_CODE COUNTRY STATE/PROVINCE  \\\n",
       "0          1    11014 -2000    3.0  11.0         50.0   SYRIA         MIYAGI   \n",
       "1          3    17601 -1610    3.0  11.0         50.0   SYRIA         MIYAGI   \n",
       "2          3        1 -1610    3.0  11.0         50.0  GREECE         MIYAGI   \n",
       "3          9        2  -479    3.0  11.0         50.0  GREECE         MIYAGI   \n",
       "4         10    19364  -426    6.0  11.0         50.0  GREECE         MIYAGI   \n",
       "\n",
       "                LOCATION  LATITUDE  LONGITUDE  DISTANCE_FROM_SOURCE  \\\n",
       "0                 UGARIT    35.583      35.75                  12.0   \n",
       "1                 UGARIT    35.583      35.75                 935.0   \n",
       "2  N. AND E. COAST CRETE    35.500      25.00                 106.0   \n",
       "3    POTIDAEA, MACEDONIA    40.300      23.33                  67.0   \n",
       "4                  TARFI    34.500     133.25                 255.0   \n",
       "\n",
       "   TRAVEL_TIME_HOURS  TRAVEL_TIME_MINUTES  MEASUREMENT_TYPE  MAXIMUM_HEIGHT  \\\n",
       "0                4.0             29.21158               1.0             2.3   \n",
       "1                4.0             29.21158               1.0             2.3   \n",
       "2                4.0             29.21158               1.0             2.3   \n",
       "3                4.0             29.21158               1.0             2.3   \n",
       "4                4.0             29.21158               1.0             2.3   \n",
       "\n",
       "   HORIZONTAL_INUNDATION  \n",
       "0                   32.0  \n",
       "1                   32.0  \n",
       "2                   32.0  \n",
       "3                   32.0  \n",
       "4                   32.0  "
      ]
     },
     "execution_count": 33,
     "metadata": {},
     "output_type": "execute_result"
    }
   ],
   "source": [
    "df_n.head()"
   ]
  },
  {
   "cell_type": "code",
   "execution_count": 57,
   "metadata": {},
   "outputs": [
    {
     "name": "stderr",
     "output_type": "stream",
     "text": [
      "<>:1: SyntaxWarning: invalid escape sequence '\\d'\n",
      "<>:1: SyntaxWarning: invalid escape sequence '\\d'\n",
      "C:\\Users\\vivek\\AppData\\Local\\Temp\\ipykernel_21560\\2447348885.py:1: SyntaxWarning: invalid escape sequence '\\d'\n",
      "  df_n.to_csv('D:\\ds\\data preprocessing\\data\\waves_nonan.csv')\n"
     ]
    }
   ],
   "source": [
    "#df_n.to_csv('D:\\ds\\data preprocessing\\data\\waves_nonan.csv')"
   ]
  },
  {
   "cell_type": "code",
   "execution_count": null,
   "metadata": {},
   "outputs": [],
   "source": [
    "# attribute selection will done in next modal\n",
    "# check the file in path D:\\ds\\data preprocessing\\attribute_sel\\temp_a.ipynb "
   ]
  }
 ],
 "metadata": {
  "kernelspec": {
   "display_name": "Python 3",
   "language": "python",
   "name": "python3"
  },
  "language_info": {
   "codemirror_mode": {
    "name": "ipython",
    "version": 3
   },
   "file_extension": ".py",
   "mimetype": "text/x-python",
   "name": "python",
   "nbconvert_exporter": "python",
   "pygments_lexer": "ipython3",
   "version": "3.12.3"
  }
 },
 "nbformat": 4,
 "nbformat_minor": 2
}
